{
 "cells": [
  {
   "cell_type": "code",
   "execution_count": 1,
   "metadata": {},
   "outputs": [
    {
     "name": "stderr",
     "output_type": "stream",
     "text": [
      "2021-07-04 18:08:18.808958: I tensorflow/stream_executor/platform/default/dso_loader.cc:53] Successfully opened dynamic library libcudart.so.11.0\n"
     ]
    }
   ],
   "source": [
    "import tensorflow as tf\n",
    "import numpy as np\n",
    "from tensorflow import keras"
   ]
  },
  {
   "cell_type": "code",
   "execution_count": 2,
   "metadata": {},
   "outputs": [],
   "source": [
    "class customCallback(tf.keras.callbacks.Callback):\n",
    "    loss = 0\n",
    "    def on_epoch_end(self, epoch, logs={}):\n",
    "        if(logs.get('loss') - self.loss == 0):\n",
    "            self.model.stop_training = True\n",
    "        self.loss = logs.get('loss')"
   ]
  },
  {
   "cell_type": "code",
   "execution_count": 3,
   "metadata": {},
   "outputs": [],
   "source": [
    "mnist = tf.keras.datasets.fashion_mnist"
   ]
  },
  {
   "cell_type": "code",
   "execution_count": 4,
   "metadata": {},
   "outputs": [
    {
     "name": "stdout",
     "output_type": "stream",
     "text": [
      "Downloading data from https://storage.googleapis.com/tensorflow/tf-keras-datasets/train-labels-idx1-ubyte.gz\n",
      "32768/29515 [=================================] - 0s 1us/step\n",
      "Downloading data from https://storage.googleapis.com/tensorflow/tf-keras-datasets/train-images-idx3-ubyte.gz\n",
      "26427392/26421880 [==============================] - 4s 0us/step\n",
      "Downloading data from https://storage.googleapis.com/tensorflow/tf-keras-datasets/t10k-labels-idx1-ubyte.gz\n",
      "8192/5148 [===============================================] - 0s 0us/step\n",
      "Downloading data from https://storage.googleapis.com/tensorflow/tf-keras-datasets/t10k-images-idx3-ubyte.gz\n",
      "4423680/4422102 [==============================] - 1s 0us/step\n"
     ]
    }
   ],
   "source": [
    "(training_images, training_labels), (test_images, test_labels) = mnist.load_data()"
   ]
  },
  {
   "cell_type": "code",
   "execution_count": 5,
   "metadata": {},
   "outputs": [],
   "source": [
    "training_images = training_images/255.0\n",
    "test_images = test_images/255.0"
   ]
  },
  {
   "cell_type": "code",
   "execution_count": 6,
   "metadata": {},
   "outputs": [
    {
     "name": "stderr",
     "output_type": "stream",
     "text": [
      "2021-07-04 18:08:27.344259: I tensorflow/stream_executor/platform/default/dso_loader.cc:53] Successfully opened dynamic library libcuda.so.1\n",
      "2021-07-04 18:08:27.398797: I tensorflow/stream_executor/cuda/cuda_gpu_executor.cc:937] successful NUMA node read from SysFS had negative value (-1), but there must be at least one NUMA node, so returning NUMA node zero\n",
      "2021-07-04 18:08:27.399065: I tensorflow/core/common_runtime/gpu/gpu_device.cc:1733] Found device 0 with properties: \n",
      "pciBusID: 0000:01:00.0 name: GeForce RTX 3080 computeCapability: 8.6\n",
      "coreClock: 1.8GHz coreCount: 68 deviceMemorySize: 9.75GiB deviceMemoryBandwidth: 707.88GiB/s\n",
      "2021-07-04 18:08:27.399081: I tensorflow/stream_executor/platform/default/dso_loader.cc:53] Successfully opened dynamic library libcudart.so.11.0\n",
      "2021-07-04 18:08:27.408425: I tensorflow/stream_executor/platform/default/dso_loader.cc:53] Successfully opened dynamic library libcublas.so.11\n",
      "2021-07-04 18:08:27.408453: I tensorflow/stream_executor/platform/default/dso_loader.cc:53] Successfully opened dynamic library libcublasLt.so.11\n",
      "2021-07-04 18:08:27.412989: I tensorflow/stream_executor/platform/default/dso_loader.cc:53] Successfully opened dynamic library libcufft.so.10\n",
      "2021-07-04 18:08:27.415386: I tensorflow/stream_executor/platform/default/dso_loader.cc:53] Successfully opened dynamic library libcurand.so.10\n",
      "2021-07-04 18:08:27.417722: I tensorflow/stream_executor/platform/default/dso_loader.cc:53] Successfully opened dynamic library libcusolver.so.11\n",
      "2021-07-04 18:08:27.420355: I tensorflow/stream_executor/platform/default/dso_loader.cc:53] Successfully opened dynamic library libcusparse.so.11\n",
      "2021-07-04 18:08:27.421072: I tensorflow/stream_executor/platform/default/dso_loader.cc:53] Successfully opened dynamic library libcudnn.so.8\n",
      "2021-07-04 18:08:27.421124: I tensorflow/stream_executor/cuda/cuda_gpu_executor.cc:937] successful NUMA node read from SysFS had negative value (-1), but there must be at least one NUMA node, so returning NUMA node zero\n",
      "2021-07-04 18:08:27.421431: I tensorflow/stream_executor/cuda/cuda_gpu_executor.cc:937] successful NUMA node read from SysFS had negative value (-1), but there must be at least one NUMA node, so returning NUMA node zero\n",
      "2021-07-04 18:08:27.421951: I tensorflow/core/common_runtime/gpu/gpu_device.cc:1871] Adding visible gpu devices: 0\n",
      "2021-07-04 18:08:27.422194: I tensorflow/core/platform/cpu_feature_guard.cc:142] This TensorFlow binary is optimized with oneAPI Deep Neural Network Library (oneDNN) to use the following CPU instructions in performance-critical operations:  AVX2 FMA\n",
      "To enable them in other operations, rebuild TensorFlow with the appropriate compiler flags.\n",
      "2021-07-04 18:08:27.422518: I tensorflow/stream_executor/cuda/cuda_gpu_executor.cc:937] successful NUMA node read from SysFS had negative value (-1), but there must be at least one NUMA node, so returning NUMA node zero\n",
      "2021-07-04 18:08:27.422796: I tensorflow/core/common_runtime/gpu/gpu_device.cc:1733] Found device 0 with properties: \n",
      "pciBusID: 0000:01:00.0 name: GeForce RTX 3080 computeCapability: 8.6\n",
      "coreClock: 1.8GHz coreCount: 68 deviceMemorySize: 9.75GiB deviceMemoryBandwidth: 707.88GiB/s\n",
      "2021-07-04 18:08:27.422838: I tensorflow/stream_executor/cuda/cuda_gpu_executor.cc:937] successful NUMA node read from SysFS had negative value (-1), but there must be at least one NUMA node, so returning NUMA node zero\n",
      "2021-07-04 18:08:27.423135: I tensorflow/stream_executor/cuda/cuda_gpu_executor.cc:937] successful NUMA node read from SysFS had negative value (-1), but there must be at least one NUMA node, so returning NUMA node zero\n",
      "2021-07-04 18:08:27.423404: I tensorflow/core/common_runtime/gpu/gpu_device.cc:1871] Adding visible gpu devices: 0\n",
      "2021-07-04 18:08:27.423673: I tensorflow/stream_executor/platform/default/dso_loader.cc:53] Successfully opened dynamic library libcudart.so.11.0\n",
      "2021-07-04 18:08:27.892957: I tensorflow/core/common_runtime/gpu/gpu_device.cc:1258] Device interconnect StreamExecutor with strength 1 edge matrix:\n",
      "2021-07-04 18:08:27.892975: I tensorflow/core/common_runtime/gpu/gpu_device.cc:1264]      0 \n",
      "2021-07-04 18:08:27.892980: I tensorflow/core/common_runtime/gpu/gpu_device.cc:1277] 0:   N \n",
      "2021-07-04 18:08:27.893083: I tensorflow/stream_executor/cuda/cuda_gpu_executor.cc:937] successful NUMA node read from SysFS had negative value (-1), but there must be at least one NUMA node, so returning NUMA node zero\n",
      "2021-07-04 18:08:27.893332: I tensorflow/stream_executor/cuda/cuda_gpu_executor.cc:937] successful NUMA node read from SysFS had negative value (-1), but there must be at least one NUMA node, so returning NUMA node zero\n",
      "2021-07-04 18:08:27.893554: I tensorflow/stream_executor/cuda/cuda_gpu_executor.cc:937] successful NUMA node read from SysFS had negative value (-1), but there must be at least one NUMA node, so returning NUMA node zero\n",
      "2021-07-04 18:08:27.893763: I tensorflow/core/common_runtime/gpu/gpu_device.cc:1418] Created TensorFlow device (/job:localhost/replica:0/task:0/device:GPU:0 with 6883 MB memory) -> physical GPU (device: 0, name: GeForce RTX 3080, pci bus id: 0000:01:00.0, compute capability: 8.6)\n"
     ]
    }
   ],
   "source": [
    "model = keras.Sequential([\n",
    "    keras.layers.Flatten(),\n",
    "    keras.layers.Dense(128, activation = tf.nn.relu),\n",
    "    keras.layers.Dense(units=10, activation = tf.nn.softmax)])"
   ]
  },
  {
   "cell_type": "code",
   "execution_count": 7,
   "metadata": {},
   "outputs": [
    {
     "name": "stderr",
     "output_type": "stream",
     "text": [
      "2021-07-04 18:08:28.234063: I tensorflow/compiler/mlir/mlir_graph_optimization_pass.cc:176] None of the MLIR Optimization Passes are enabled (registered 2)\n",
      "2021-07-04 18:08:28.235254: I tensorflow/core/platform/profile_utils/cpu_utils.cc:114] CPU Frequency: 3799900000 Hz\n"
     ]
    },
    {
     "name": "stdout",
     "output_type": "stream",
     "text": [
      "Epoch 1/5000\n"
     ]
    },
    {
     "name": "stderr",
     "output_type": "stream",
     "text": [
      "2021-07-04 18:08:28.451758: I tensorflow/stream_executor/platform/default/dso_loader.cc:53] Successfully opened dynamic library libcublas.so.11\n"
     ]
    },
    {
     "name": "stdout",
     "output_type": "stream",
     "text": [
      " 272/1875 [===>..........................] - ETA: 0s - loss: 0.7282 "
     ]
    },
    {
     "name": "stderr",
     "output_type": "stream",
     "text": [
      "2021-07-04 18:08:29.011153: I tensorflow/stream_executor/platform/default/dso_loader.cc:53] Successfully opened dynamic library libcublasLt.so.11\n",
      "2021-07-04 18:08:29.011189: I tensorflow/stream_executor/cuda/cuda_blas.cc:1838] TensorFloat-32 will be used for the matrix multiplication. This will only be logged once.\n"
     ]
    },
    {
     "name": "stdout",
     "output_type": "stream",
     "text": [
      "1875/1875 [==============================] - 2s 614us/step - loss: 0.4986\n",
      "Epoch 2/5000\n",
      "1875/1875 [==============================] - 1s 558us/step - loss: 0.3736\n",
      "Epoch 3/5000\n",
      "1875/1875 [==============================] - 1s 567us/step - loss: 0.3370\n",
      "Epoch 4/5000\n",
      "1875/1875 [==============================] - 1s 527us/step - loss: 0.3136\n",
      "Epoch 5/5000\n",
      "1875/1875 [==============================] - 1s 574us/step - loss: 0.2912\n",
      "Epoch 6/5000\n",
      "1875/1875 [==============================] - 1s 544us/step - loss: 0.2784\n",
      "Epoch 7/5000\n",
      "1875/1875 [==============================] - 1s 533us/step - loss: 0.2686\n",
      "Epoch 8/5000\n",
      "1875/1875 [==============================] - 1s 550us/step - loss: 0.2561\n",
      "Epoch 9/5000\n",
      "1875/1875 [==============================] - 1s 555us/step - loss: 0.2469\n",
      "Epoch 10/5000\n",
      "1875/1875 [==============================] - 1s 593us/step - loss: 0.2390\n",
      "Epoch 11/5000\n",
      "1875/1875 [==============================] - 1s 539us/step - loss: 0.2302\n",
      "Epoch 12/5000\n",
      "1875/1875 [==============================] - 1s 618us/step - loss: 0.2228\n",
      "Epoch 13/5000\n",
      "1875/1875 [==============================] - 1s 614us/step - loss: 0.2169\n",
      "Epoch 14/5000\n",
      "1875/1875 [==============================] - 1s 585us/step - loss: 0.2096\n",
      "Epoch 15/5000\n",
      "1875/1875 [==============================] - 1s 536us/step - loss: 0.2023\n",
      "Epoch 16/5000\n",
      "1875/1875 [==============================] - 1s 553us/step - loss: 0.1971\n",
      "Epoch 17/5000\n",
      "1875/1875 [==============================] - 1s 577us/step - loss: 0.1924\n",
      "Epoch 18/5000\n",
      "1875/1875 [==============================] - 1s 535us/step - loss: 0.1871\n",
      "Epoch 19/5000\n",
      "1875/1875 [==============================] - 1s 571us/step - loss: 0.1824\n",
      "Epoch 20/5000\n",
      "1875/1875 [==============================] - 1s 587us/step - loss: 0.1788\n",
      "Epoch 21/5000\n",
      "1875/1875 [==============================] - 1s 534us/step - loss: 0.1733\n",
      "Epoch 22/5000\n",
      "1875/1875 [==============================] - 1s 534us/step - loss: 0.1690\n",
      "Epoch 23/5000\n",
      "1875/1875 [==============================] - 1s 582us/step - loss: 0.1648\n",
      "Epoch 24/5000\n",
      "1875/1875 [==============================] - 1s 547us/step - loss: 0.1603\n",
      "Epoch 25/5000\n",
      "1875/1875 [==============================] - 1s 545us/step - loss: 0.1579\n",
      "Epoch 26/5000\n",
      "1875/1875 [==============================] - 1s 533us/step - loss: 0.1534\n",
      "Epoch 27/5000\n",
      "1875/1875 [==============================] - 1s 543us/step - loss: 0.1506\n",
      "Epoch 28/5000\n",
      "1875/1875 [==============================] - 1s 591us/step - loss: 0.1459\n",
      "Epoch 29/5000\n",
      "1875/1875 [==============================] - 1s 603us/step - loss: 0.1438\n",
      "Epoch 30/5000\n",
      "1875/1875 [==============================] - 1s 546us/step - loss: 0.1416\n",
      "Epoch 31/5000\n",
      "1875/1875 [==============================] - 1s 543us/step - loss: 0.1377\n",
      "Epoch 32/5000\n",
      "1875/1875 [==============================] - 1s 561us/step - loss: 0.1356\n",
      "Epoch 33/5000\n",
      "1875/1875 [==============================] - 1s 559us/step - loss: 0.1320\n",
      "Epoch 34/5000\n",
      "1875/1875 [==============================] - 1s 549us/step - loss: 0.1298\n",
      "Epoch 35/5000\n",
      "1875/1875 [==============================] - 1s 531us/step - loss: 0.1267\n",
      "Epoch 36/5000\n",
      "1875/1875 [==============================] - 1s 613us/step - loss: 0.1257\n",
      "Epoch 37/5000\n",
      "1875/1875 [==============================] - 1s 633us/step - loss: 0.1217\n",
      "Epoch 38/5000\n",
      "1875/1875 [==============================] - 1s 561us/step - loss: 0.1215\n",
      "Epoch 39/5000\n",
      "1875/1875 [==============================] - 1s 634us/step - loss: 0.1159\n",
      "Epoch 40/5000\n",
      "1875/1875 [==============================] - 1s 582us/step - loss: 0.1180\n",
      "Epoch 41/5000\n",
      "1875/1875 [==============================] - 1s 544us/step - loss: 0.1130\n",
      "Epoch 42/5000\n",
      "1875/1875 [==============================] - 1s 571us/step - loss: 0.1128\n",
      "Epoch 43/5000\n",
      "1875/1875 [==============================] - 1s 633us/step - loss: 0.1074\n",
      "Epoch 44/5000\n",
      "1875/1875 [==============================] - 1s 617us/step - loss: 0.1084\n",
      "Epoch 45/5000\n",
      "1875/1875 [==============================] - 1s 558us/step - loss: 0.1074\n",
      "Epoch 46/5000\n",
      "1875/1875 [==============================] - 1s 552us/step - loss: 0.1032\n",
      "Epoch 47/5000\n",
      "1875/1875 [==============================] - 1s 587us/step - loss: 0.1024\n",
      "Epoch 48/5000\n",
      "1875/1875 [==============================] - 1s 523us/step - loss: 0.1027\n",
      "Epoch 49/5000\n",
      "1875/1875 [==============================] - 1s 617us/step - loss: 0.0978\n",
      "Epoch 50/5000\n",
      "1875/1875 [==============================] - 1s 555us/step - loss: 0.0986\n",
      "Epoch 51/5000\n",
      "1875/1875 [==============================] - 1s 527us/step - loss: 0.0938\n",
      "Epoch 52/5000\n",
      "1875/1875 [==============================] - 1s 613us/step - loss: 0.0956\n",
      "Epoch 53/5000\n",
      "1875/1875 [==============================] - 1s 563us/step - loss: 0.0949\n",
      "Epoch 54/5000\n",
      "1875/1875 [==============================] - 1s 534us/step - loss: 0.0943\n",
      "Epoch 55/5000\n",
      "1875/1875 [==============================] - 1s 571us/step - loss: 0.0905\n",
      "Epoch 56/5000\n",
      "1875/1875 [==============================] - 1s 536us/step - loss: 0.0881\n",
      "Epoch 57/5000\n",
      "1875/1875 [==============================] - 1s 561us/step - loss: 0.0891\n",
      "Epoch 58/5000\n",
      "1875/1875 [==============================] - 1s 535us/step - loss: 0.0853\n",
      "Epoch 59/5000\n",
      "1875/1875 [==============================] - 1s 535us/step - loss: 0.0862\n",
      "Epoch 60/5000\n",
      "1875/1875 [==============================] - 1s 538us/step - loss: 0.0850\n",
      "Epoch 61/5000\n",
      "1875/1875 [==============================] - 1s 643us/step - loss: 0.0820\n",
      "Epoch 62/5000\n",
      "1875/1875 [==============================] - 1s 527us/step - loss: 0.0817\n",
      "Epoch 63/5000\n",
      "1875/1875 [==============================] - 1s 552us/step - loss: 0.0825\n",
      "Epoch 64/5000\n",
      "1875/1875 [==============================] - 1s 551us/step - loss: 0.0790\n",
      "Epoch 65/5000\n",
      "1875/1875 [==============================] - 1s 574us/step - loss: 0.0775\n",
      "Epoch 66/5000\n",
      "1875/1875 [==============================] - 1s 527us/step - loss: 0.0768\n",
      "Epoch 67/5000\n",
      "1875/1875 [==============================] - 1s 647us/step - loss: 0.0774\n",
      "Epoch 68/5000\n",
      "1875/1875 [==============================] - 1s 550us/step - loss: 0.0756\n",
      "Epoch 69/5000\n",
      "1875/1875 [==============================] - 1s 609us/step - loss: 0.0766\n",
      "Epoch 70/5000\n",
      "1875/1875 [==============================] - 1s 523us/step - loss: 0.0706\n",
      "Epoch 71/5000\n",
      "1875/1875 [==============================] - 1s 542us/step - loss: 0.0723\n",
      "Epoch 72/5000\n",
      "1875/1875 [==============================] - 1s 544us/step - loss: 0.0740\n",
      "Epoch 73/5000\n",
      "1875/1875 [==============================] - 1s 560us/step - loss: 0.0681\n",
      "Epoch 74/5000\n",
      "1875/1875 [==============================] - 1s 549us/step - loss: 0.0701\n",
      "Epoch 75/5000\n",
      "1875/1875 [==============================] - 1s 529us/step - loss: 0.0652\n",
      "Epoch 76/5000\n",
      "1875/1875 [==============================] - 1s 525us/step - loss: 0.0674\n",
      "Epoch 77/5000\n",
      "1875/1875 [==============================] - 1s 568us/step - loss: 0.0667\n",
      "Epoch 78/5000\n",
      "1875/1875 [==============================] - 1s 598us/step - loss: 0.0661\n",
      "Epoch 79/5000\n",
      "1875/1875 [==============================] - 1s 549us/step - loss: 0.0652\n",
      "Epoch 80/5000\n",
      "1875/1875 [==============================] - 1s 537us/step - loss: 0.0673\n",
      "Epoch 81/5000\n",
      "1875/1875 [==============================] - 1s 524us/step - loss: 0.0631\n",
      "Epoch 82/5000\n",
      "1875/1875 [==============================] - 1s 528us/step - loss: 0.0629\n",
      "Epoch 83/5000\n",
      "1875/1875 [==============================] - 1s 525us/step - loss: 0.0620\n",
      "Epoch 84/5000\n",
      "1875/1875 [==============================] - 1s 585us/step - loss: 0.0594\n",
      "Epoch 85/5000\n",
      "1875/1875 [==============================] - 1s 614us/step - loss: 0.0620\n",
      "Epoch 86/5000\n",
      "1875/1875 [==============================] - 1s 545us/step - loss: 0.0589\n",
      "Epoch 87/5000\n",
      "1875/1875 [==============================] - 1s 568us/step - loss: 0.0618\n",
      "Epoch 88/5000\n",
      "1875/1875 [==============================] - 1s 641us/step - loss: 0.0578\n",
      "Epoch 89/5000\n",
      "1875/1875 [==============================] - 1s 641us/step - loss: 0.0562\n",
      "Epoch 90/5000\n",
      "1875/1875 [==============================] - 1s 534us/step - loss: 0.0571\n",
      "Epoch 91/5000\n",
      "1875/1875 [==============================] - 1s 539us/step - loss: 0.0577\n",
      "Epoch 92/5000\n",
      "1875/1875 [==============================] - 1s 630us/step - loss: 0.0524\n",
      "Epoch 93/5000\n",
      "1875/1875 [==============================] - 1s 537us/step - loss: 0.0597\n",
      "Epoch 94/5000\n"
     ]
    },
    {
     "name": "stdout",
     "output_type": "stream",
     "text": [
      "1875/1875 [==============================] - 1s 545us/step - loss: 0.0529\n",
      "Epoch 95/5000\n",
      "1875/1875 [==============================] - 1s 527us/step - loss: 0.0558\n",
      "Epoch 96/5000\n",
      "1875/1875 [==============================] - 1s 525us/step - loss: 0.0529\n",
      "Epoch 97/5000\n",
      "1875/1875 [==============================] - 1s 579us/step - loss: 0.0525\n",
      "Epoch 98/5000\n",
      "1875/1875 [==============================] - 1s 648us/step - loss: 0.0547\n",
      "Epoch 99/5000\n",
      "1875/1875 [==============================] - 1s 542us/step - loss: 0.0530\n",
      "Epoch 100/5000\n",
      "1875/1875 [==============================] - 2s 841us/step - loss: 0.0501\n",
      "Epoch 101/5000\n",
      "1875/1875 [==============================] - 1s 651us/step - loss: 0.0503\n",
      "Epoch 102/5000\n",
      "1875/1875 [==============================] - 1s 647us/step - loss: 0.0502\n",
      "Epoch 103/5000\n",
      "1875/1875 [==============================] - 1s 677us/step - loss: 0.0494\n",
      "Epoch 104/5000\n",
      "1875/1875 [==============================] - 1s 612us/step - loss: 0.0497\n",
      "Epoch 105/5000\n",
      "1875/1875 [==============================] - 1s 552us/step - loss: 0.0509\n",
      "Epoch 106/5000\n",
      "1875/1875 [==============================] - 1s 729us/step - loss: 0.0510\n",
      "Epoch 107/5000\n",
      "1875/1875 [==============================] - 1s 568us/step - loss: 0.0471\n",
      "Epoch 108/5000\n",
      "1875/1875 [==============================] - 1s 679us/step - loss: 0.0470\n",
      "Epoch 109/5000\n",
      "1875/1875 [==============================] - 1s 555us/step - loss: 0.0470\n",
      "Epoch 110/5000\n",
      "1875/1875 [==============================] - 2s 825us/step - loss: 0.0460\n",
      "Epoch 111/5000\n",
      "1875/1875 [==============================] - 1s 555us/step - loss: 0.0468\n",
      "Epoch 112/5000\n",
      "1875/1875 [==============================] - 1s 547us/step - loss: 0.0479\n",
      "Epoch 113/5000\n",
      "1875/1875 [==============================] - 1s 583us/step - loss: 0.0421\n",
      "Epoch 114/5000\n",
      "1875/1875 [==============================] - 1s 547us/step - loss: 0.0502\n",
      "Epoch 115/5000\n",
      " 790/1875 [===========>..................] - ETA: 0s - loss: 0.0359"
     ]
    },
    {
     "ename": "KeyboardInterrupt",
     "evalue": "",
     "output_type": "error",
     "traceback": [
      "\u001b[0;31m---------------------------------------------------------------------------\u001b[0m",
      "\u001b[0;31mKeyboardInterrupt\u001b[0m                         Traceback (most recent call last)",
      "\u001b[0;32m/tmp/ipykernel_6274/837867329.py\u001b[0m in \u001b[0;36m<module>\u001b[0;34m\u001b[0m\n\u001b[1;32m      1\u001b[0m \u001b[0mmodel\u001b[0m\u001b[0;34m.\u001b[0m\u001b[0mcompile\u001b[0m\u001b[0;34m(\u001b[0m\u001b[0moptimizer\u001b[0m\u001b[0;34m=\u001b[0m\u001b[0;34m'adam'\u001b[0m\u001b[0;34m,\u001b[0m \u001b[0mloss\u001b[0m\u001b[0;34m=\u001b[0m\u001b[0;34m'sparse_categorical_crossentropy'\u001b[0m\u001b[0;34m)\u001b[0m\u001b[0;34m\u001b[0m\u001b[0;34m\u001b[0m\u001b[0m\n\u001b[0;32m----> 2\u001b[0;31m \u001b[0mmodel\u001b[0m\u001b[0;34m.\u001b[0m\u001b[0mfit\u001b[0m\u001b[0;34m(\u001b[0m\u001b[0mtraining_images\u001b[0m\u001b[0;34m,\u001b[0m \u001b[0mtraining_labels\u001b[0m\u001b[0;34m,\u001b[0m \u001b[0mepochs\u001b[0m\u001b[0;34m=\u001b[0m\u001b[0;36m5000\u001b[0m\u001b[0;34m,\u001b[0m \u001b[0mcallbacks\u001b[0m\u001b[0;34m=\u001b[0m\u001b[0;34m[\u001b[0m\u001b[0mcustomCallback\u001b[0m\u001b[0;34m(\u001b[0m\u001b[0;34m)\u001b[0m\u001b[0;34m]\u001b[0m\u001b[0;34m)\u001b[0m\u001b[0;34m\u001b[0m\u001b[0;34m\u001b[0m\u001b[0m\n\u001b[0m",
      "\u001b[0;32m~/anaconda3/envs/tensorflow/lib/python3.8/site-packages/tensorflow/python/keras/engine/training.py\u001b[0m in \u001b[0;36mfit\u001b[0;34m(self, x, y, batch_size, epochs, verbose, callbacks, validation_split, validation_data, shuffle, class_weight, sample_weight, initial_epoch, steps_per_epoch, validation_steps, validation_batch_size, validation_freq, max_queue_size, workers, use_multiprocessing)\u001b[0m\n\u001b[1;32m   1181\u001b[0m                 _r=1):\n\u001b[1;32m   1182\u001b[0m               \u001b[0mcallbacks\u001b[0m\u001b[0;34m.\u001b[0m\u001b[0mon_train_batch_begin\u001b[0m\u001b[0;34m(\u001b[0m\u001b[0mstep\u001b[0m\u001b[0;34m)\u001b[0m\u001b[0;34m\u001b[0m\u001b[0;34m\u001b[0m\u001b[0m\n\u001b[0;32m-> 1183\u001b[0;31m               \u001b[0mtmp_logs\u001b[0m \u001b[0;34m=\u001b[0m \u001b[0mself\u001b[0m\u001b[0;34m.\u001b[0m\u001b[0mtrain_function\u001b[0m\u001b[0;34m(\u001b[0m\u001b[0miterator\u001b[0m\u001b[0;34m)\u001b[0m\u001b[0;34m\u001b[0m\u001b[0;34m\u001b[0m\u001b[0m\n\u001b[0m\u001b[1;32m   1184\u001b[0m               \u001b[0;32mif\u001b[0m \u001b[0mdata_handler\u001b[0m\u001b[0;34m.\u001b[0m\u001b[0mshould_sync\u001b[0m\u001b[0;34m:\u001b[0m\u001b[0;34m\u001b[0m\u001b[0;34m\u001b[0m\u001b[0m\n\u001b[1;32m   1185\u001b[0m                 \u001b[0mcontext\u001b[0m\u001b[0;34m.\u001b[0m\u001b[0masync_wait\u001b[0m\u001b[0;34m(\u001b[0m\u001b[0;34m)\u001b[0m\u001b[0;34m\u001b[0m\u001b[0;34m\u001b[0m\u001b[0m\n",
      "\u001b[0;32m~/anaconda3/envs/tensorflow/lib/python3.8/site-packages/tensorflow/python/eager/def_function.py\u001b[0m in \u001b[0;36m__call__\u001b[0;34m(self, *args, **kwds)\u001b[0m\n\u001b[1;32m    887\u001b[0m \u001b[0;34m\u001b[0m\u001b[0m\n\u001b[1;32m    888\u001b[0m       \u001b[0;32mwith\u001b[0m \u001b[0mOptionalXlaContext\u001b[0m\u001b[0;34m(\u001b[0m\u001b[0mself\u001b[0m\u001b[0;34m.\u001b[0m\u001b[0m_jit_compile\u001b[0m\u001b[0;34m)\u001b[0m\u001b[0;34m:\u001b[0m\u001b[0;34m\u001b[0m\u001b[0;34m\u001b[0m\u001b[0m\n\u001b[0;32m--> 889\u001b[0;31m         \u001b[0mresult\u001b[0m \u001b[0;34m=\u001b[0m \u001b[0mself\u001b[0m\u001b[0;34m.\u001b[0m\u001b[0m_call\u001b[0m\u001b[0;34m(\u001b[0m\u001b[0;34m*\u001b[0m\u001b[0margs\u001b[0m\u001b[0;34m,\u001b[0m \u001b[0;34m**\u001b[0m\u001b[0mkwds\u001b[0m\u001b[0;34m)\u001b[0m\u001b[0;34m\u001b[0m\u001b[0;34m\u001b[0m\u001b[0m\n\u001b[0m\u001b[1;32m    890\u001b[0m \u001b[0;34m\u001b[0m\u001b[0m\n\u001b[1;32m    891\u001b[0m       \u001b[0mnew_tracing_count\u001b[0m \u001b[0;34m=\u001b[0m \u001b[0mself\u001b[0m\u001b[0;34m.\u001b[0m\u001b[0mexperimental_get_tracing_count\u001b[0m\u001b[0;34m(\u001b[0m\u001b[0;34m)\u001b[0m\u001b[0;34m\u001b[0m\u001b[0;34m\u001b[0m\u001b[0m\n",
      "\u001b[0;32m~/anaconda3/envs/tensorflow/lib/python3.8/site-packages/tensorflow/python/eager/def_function.py\u001b[0m in \u001b[0;36m_call\u001b[0;34m(self, *args, **kwds)\u001b[0m\n\u001b[1;32m    915\u001b[0m       \u001b[0;31m# In this case we have created variables on the first call, so we run the\u001b[0m\u001b[0;34m\u001b[0m\u001b[0;34m\u001b[0m\u001b[0;34m\u001b[0m\u001b[0m\n\u001b[1;32m    916\u001b[0m       \u001b[0;31m# defunned version which is guaranteed to never create variables.\u001b[0m\u001b[0;34m\u001b[0m\u001b[0;34m\u001b[0m\u001b[0;34m\u001b[0m\u001b[0m\n\u001b[0;32m--> 917\u001b[0;31m       \u001b[0;32mreturn\u001b[0m \u001b[0mself\u001b[0m\u001b[0;34m.\u001b[0m\u001b[0m_stateless_fn\u001b[0m\u001b[0;34m(\u001b[0m\u001b[0;34m*\u001b[0m\u001b[0margs\u001b[0m\u001b[0;34m,\u001b[0m \u001b[0;34m**\u001b[0m\u001b[0mkwds\u001b[0m\u001b[0;34m)\u001b[0m  \u001b[0;31m# pylint: disable=not-callable\u001b[0m\u001b[0;34m\u001b[0m\u001b[0;34m\u001b[0m\u001b[0m\n\u001b[0m\u001b[1;32m    918\u001b[0m     \u001b[0;32melif\u001b[0m \u001b[0mself\u001b[0m\u001b[0;34m.\u001b[0m\u001b[0m_stateful_fn\u001b[0m \u001b[0;32mis\u001b[0m \u001b[0;32mnot\u001b[0m \u001b[0;32mNone\u001b[0m\u001b[0;34m:\u001b[0m\u001b[0;34m\u001b[0m\u001b[0;34m\u001b[0m\u001b[0m\n\u001b[1;32m    919\u001b[0m       \u001b[0;31m# Release the lock early so that multiple threads can perform the call\u001b[0m\u001b[0;34m\u001b[0m\u001b[0;34m\u001b[0m\u001b[0;34m\u001b[0m\u001b[0m\n",
      "\u001b[0;32m~/anaconda3/envs/tensorflow/lib/python3.8/site-packages/tensorflow/python/eager/function.py\u001b[0m in \u001b[0;36m__call__\u001b[0;34m(self, *args, **kwargs)\u001b[0m\n\u001b[1;32m   3021\u001b[0m       (graph_function,\n\u001b[1;32m   3022\u001b[0m        filtered_flat_args) = self._maybe_define_function(args, kwargs)\n\u001b[0;32m-> 3023\u001b[0;31m     return graph_function._call_flat(\n\u001b[0m\u001b[1;32m   3024\u001b[0m         filtered_flat_args, captured_inputs=graph_function.captured_inputs)  # pylint: disable=protected-access\n\u001b[1;32m   3025\u001b[0m \u001b[0;34m\u001b[0m\u001b[0m\n",
      "\u001b[0;32m~/anaconda3/envs/tensorflow/lib/python3.8/site-packages/tensorflow/python/eager/function.py\u001b[0m in \u001b[0;36m_call_flat\u001b[0;34m(self, args, captured_inputs, cancellation_manager)\u001b[0m\n\u001b[1;32m   1958\u001b[0m         and executing_eagerly):\n\u001b[1;32m   1959\u001b[0m       \u001b[0;31m# No tape is watching; skip to running the function.\u001b[0m\u001b[0;34m\u001b[0m\u001b[0;34m\u001b[0m\u001b[0;34m\u001b[0m\u001b[0m\n\u001b[0;32m-> 1960\u001b[0;31m       return self._build_call_outputs(self._inference_function.call(\n\u001b[0m\u001b[1;32m   1961\u001b[0m           ctx, args, cancellation_manager=cancellation_manager))\n\u001b[1;32m   1962\u001b[0m     forward_backward = self._select_forward_and_backward_functions(\n",
      "\u001b[0;32m~/anaconda3/envs/tensorflow/lib/python3.8/site-packages/tensorflow/python/eager/function.py\u001b[0m in \u001b[0;36mcall\u001b[0;34m(self, ctx, args, cancellation_manager)\u001b[0m\n\u001b[1;32m    589\u001b[0m       \u001b[0;32mwith\u001b[0m \u001b[0m_InterpolateFunctionError\u001b[0m\u001b[0;34m(\u001b[0m\u001b[0mself\u001b[0m\u001b[0;34m)\u001b[0m\u001b[0;34m:\u001b[0m\u001b[0;34m\u001b[0m\u001b[0;34m\u001b[0m\u001b[0m\n\u001b[1;32m    590\u001b[0m         \u001b[0;32mif\u001b[0m \u001b[0mcancellation_manager\u001b[0m \u001b[0;32mis\u001b[0m \u001b[0;32mNone\u001b[0m\u001b[0;34m:\u001b[0m\u001b[0;34m\u001b[0m\u001b[0;34m\u001b[0m\u001b[0m\n\u001b[0;32m--> 591\u001b[0;31m           outputs = execute.execute(\n\u001b[0m\u001b[1;32m    592\u001b[0m               \u001b[0mstr\u001b[0m\u001b[0;34m(\u001b[0m\u001b[0mself\u001b[0m\u001b[0;34m.\u001b[0m\u001b[0msignature\u001b[0m\u001b[0;34m.\u001b[0m\u001b[0mname\u001b[0m\u001b[0;34m)\u001b[0m\u001b[0;34m,\u001b[0m\u001b[0;34m\u001b[0m\u001b[0;34m\u001b[0m\u001b[0m\n\u001b[1;32m    593\u001b[0m               \u001b[0mnum_outputs\u001b[0m\u001b[0;34m=\u001b[0m\u001b[0mself\u001b[0m\u001b[0;34m.\u001b[0m\u001b[0m_num_outputs\u001b[0m\u001b[0;34m,\u001b[0m\u001b[0;34m\u001b[0m\u001b[0;34m\u001b[0m\u001b[0m\n",
      "\u001b[0;32m~/anaconda3/envs/tensorflow/lib/python3.8/site-packages/tensorflow/python/eager/execute.py\u001b[0m in \u001b[0;36mquick_execute\u001b[0;34m(op_name, num_outputs, inputs, attrs, ctx, name)\u001b[0m\n\u001b[1;32m     57\u001b[0m   \u001b[0;32mtry\u001b[0m\u001b[0;34m:\u001b[0m\u001b[0;34m\u001b[0m\u001b[0;34m\u001b[0m\u001b[0m\n\u001b[1;32m     58\u001b[0m     \u001b[0mctx\u001b[0m\u001b[0;34m.\u001b[0m\u001b[0mensure_initialized\u001b[0m\u001b[0;34m(\u001b[0m\u001b[0;34m)\u001b[0m\u001b[0;34m\u001b[0m\u001b[0;34m\u001b[0m\u001b[0m\n\u001b[0;32m---> 59\u001b[0;31m     tensors = pywrap_tfe.TFE_Py_Execute(ctx._handle, device_name, op_name,\n\u001b[0m\u001b[1;32m     60\u001b[0m                                         inputs, attrs, num_outputs)\n\u001b[1;32m     61\u001b[0m   \u001b[0;32mexcept\u001b[0m \u001b[0mcore\u001b[0m\u001b[0;34m.\u001b[0m\u001b[0m_NotOkStatusException\u001b[0m \u001b[0;32mas\u001b[0m \u001b[0me\u001b[0m\u001b[0;34m:\u001b[0m\u001b[0;34m\u001b[0m\u001b[0;34m\u001b[0m\u001b[0m\n",
      "\u001b[0;31mKeyboardInterrupt\u001b[0m: "
     ]
    }
   ],
   "source": [
    "model.compile(optimizer='adam', loss='sparse_categorical_crossentropy')\n",
    "model.fit(training_images, training_labels, epochs=5000, callbacks=[customCallback()])"
   ]
  },
  {
   "cell_type": "code",
   "execution_count": null,
   "metadata": {},
   "outputs": [],
   "source": []
  }
 ],
 "metadata": {
  "kernelspec": {
   "display_name": "tensorflow",
   "language": "python",
   "name": "tensorflow"
  },
  "language_info": {
   "codemirror_mode": {
    "name": "ipython",
    "version": 3
   },
   "file_extension": ".py",
   "mimetype": "text/x-python",
   "name": "python",
   "nbconvert_exporter": "python",
   "pygments_lexer": "ipython3",
   "version": "3.8.8"
  }
 },
 "nbformat": 4,
 "nbformat_minor": 5
}
