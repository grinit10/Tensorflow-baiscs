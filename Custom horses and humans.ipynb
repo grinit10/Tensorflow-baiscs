{
 "cells": [
  {
   "cell_type": "code",
   "execution_count": 1,
   "metadata": {},
   "outputs": [
    {
     "name": "stdout",
     "output_type": "stream",
     "text": [
      "--2021-07-04 22:32:59--  https://storage.googleapis.com/laurencemoroney-blog.appspot.com/horse-or-human.zip\n",
      "Resolving storage.googleapis.com (storage.googleapis.com)... 142.250.67.16, 142.250.66.240, 172.217.167.80, ...\n",
      "Connecting to storage.googleapis.com (storage.googleapis.com)|142.250.67.16|:443... connected.\n",
      "HTTP request sent, awaiting response... 200 OK\n",
      "Length: 149574867 (143M) [application/zip]\n",
      "Saving to: 'horse-or-human.zip.1’\n",
      "\n",
      "horse-or-human.zip. 100%[===================>] 142.65M  6.18MB/s    in 23s     \n",
      "\n",
      "2021-07-04 22:33:22 (6.27 MB/s) - 'horse-or-human.zip.1’ saved [149574867/149574867]\n",
      "\n",
      "--2021-07-04 22:33:22--  https://storage.googleapis.com/laurencemoroney-blog.appspot.com/validation-horse-or-human.zip\n",
      "Resolving storage.googleapis.com (storage.googleapis.com)... 142.250.67.16, 142.250.66.240, 172.217.167.80, ...\n",
      "Connecting to storage.googleapis.com (storage.googleapis.com)|142.250.67.16|:443... connected.\n",
      "HTTP request sent, awaiting response... 200 OK\n",
      "Length: 11480187 (11M) [application/zip]\n",
      "Saving to: 'validation-horse-or-human.zip.1’\n",
      "\n",
      "validation-horse-or 100%[===================>]  10.95M  6.26MB/s    in 1.7s    \n",
      "\n",
      "2021-07-04 22:33:24 (6.26 MB/s) - 'validation-horse-or-human.zip.1’ saved [11480187/11480187]\n",
      "\n"
     ]
    }
   ],
   "source": [
    "!wget https://storage.googleapis.com/laurencemoroney-blog.appspot.com/horse-or-human.zip\n",
    "!wget https://storage.googleapis.com/laurencemoroney-blog.appspot.com/validation-horse-or-human.zip"
   ]
  },
  {
   "cell_type": "code",
   "execution_count": 2,
   "metadata": {},
   "outputs": [],
   "source": [
    "import os\n",
    "import zipfile\n",
    "\n",
    "local_train__zip = 'horse-or-human.zip'\n",
    "local_validation__zip = 'validation-horse-or-human.zip'\n",
    "zip_ref = zipfile.ZipFile(local_train__zip)\n",
    "zip_ref.extractall('/tmp/horse-or-human')\n",
    "zip_ref = zipfile.ZipFile(local_validation__zip)\n",
    "zip_ref.extractall('/tmp/validation-horse-or-human')\n",
    "zip_ref.close()"
   ]
  },
  {
   "cell_type": "code",
   "execution_count": 3,
   "metadata": {},
   "outputs": [
    {
     "name": "stderr",
     "output_type": "stream",
     "text": [
      "2021-07-04 22:33:25.601454: I tensorflow/stream_executor/platform/default/dso_loader.cc:53] Successfully opened dynamic library libcudart.so.11.0\n"
     ]
    }
   ],
   "source": [
    "import tensorflow as tf\n",
    "import numpy as np\n",
    "from tensorflow import keras"
   ]
  },
  {
   "cell_type": "code",
   "execution_count": 4,
   "metadata": {},
   "outputs": [
    {
     "name": "stderr",
     "output_type": "stream",
     "text": [
      "2021-07-04 22:33:26.345304: I tensorflow/stream_executor/platform/default/dso_loader.cc:53] Successfully opened dynamic library libcuda.so.1\n",
      "2021-07-04 22:33:26.389351: I tensorflow/stream_executor/cuda/cuda_gpu_executor.cc:937] successful NUMA node read from SysFS had negative value (-1), but there must be at least one NUMA node, so returning NUMA node zero\n",
      "2021-07-04 22:33:26.389589: I tensorflow/core/common_runtime/gpu/gpu_device.cc:1733] Found device 0 with properties: \n",
      "pciBusID: 0000:01:00.0 name: GeForce RTX 3080 computeCapability: 8.6\n",
      "coreClock: 1.8GHz coreCount: 68 deviceMemorySize: 9.75GiB deviceMemoryBandwidth: 707.88GiB/s\n",
      "2021-07-04 22:33:26.389604: I tensorflow/stream_executor/platform/default/dso_loader.cc:53] Successfully opened dynamic library libcudart.so.11.0\n",
      "2021-07-04 22:33:26.391114: I tensorflow/stream_executor/platform/default/dso_loader.cc:53] Successfully opened dynamic library libcublas.so.11\n",
      "2021-07-04 22:33:26.391139: I tensorflow/stream_executor/platform/default/dso_loader.cc:53] Successfully opened dynamic library libcublasLt.so.11\n",
      "2021-07-04 22:33:26.391615: I tensorflow/stream_executor/platform/default/dso_loader.cc:53] Successfully opened dynamic library libcufft.so.10\n",
      "2021-07-04 22:33:26.391742: I tensorflow/stream_executor/platform/default/dso_loader.cc:53] Successfully opened dynamic library libcurand.so.10\n",
      "2021-07-04 22:33:26.392204: I tensorflow/stream_executor/platform/default/dso_loader.cc:53] Successfully opened dynamic library libcusolver.so.11\n",
      "2021-07-04 22:33:26.392588: I tensorflow/stream_executor/platform/default/dso_loader.cc:53] Successfully opened dynamic library libcusparse.so.11\n",
      "2021-07-04 22:33:26.392664: I tensorflow/stream_executor/platform/default/dso_loader.cc:53] Successfully opened dynamic library libcudnn.so.8\n",
      "2021-07-04 22:33:26.392707: I tensorflow/stream_executor/cuda/cuda_gpu_executor.cc:937] successful NUMA node read from SysFS had negative value (-1), but there must be at least one NUMA node, so returning NUMA node zero\n",
      "2021-07-04 22:33:26.392948: I tensorflow/stream_executor/cuda/cuda_gpu_executor.cc:937] successful NUMA node read from SysFS had negative value (-1), but there must be at least one NUMA node, so returning NUMA node zero\n",
      "2021-07-04 22:33:26.393156: I tensorflow/core/common_runtime/gpu/gpu_device.cc:1871] Adding visible gpu devices: 0\n",
      "2021-07-04 22:33:26.393370: I tensorflow/core/platform/cpu_feature_guard.cc:142] This TensorFlow binary is optimized with oneAPI Deep Neural Network Library (oneDNN) to use the following CPU instructions in performance-critical operations:  AVX2 FMA\n",
      "To enable them in other operations, rebuild TensorFlow with the appropriate compiler flags.\n",
      "2021-07-04 22:33:26.393684: I tensorflow/stream_executor/cuda/cuda_gpu_executor.cc:937] successful NUMA node read from SysFS had negative value (-1), but there must be at least one NUMA node, so returning NUMA node zero\n",
      "2021-07-04 22:33:26.393899: I tensorflow/core/common_runtime/gpu/gpu_device.cc:1733] Found device 0 with properties: \n",
      "pciBusID: 0000:01:00.0 name: GeForce RTX 3080 computeCapability: 8.6\n",
      "coreClock: 1.8GHz coreCount: 68 deviceMemorySize: 9.75GiB deviceMemoryBandwidth: 707.88GiB/s\n",
      "2021-07-04 22:33:26.393935: I tensorflow/stream_executor/cuda/cuda_gpu_executor.cc:937] successful NUMA node read from SysFS had negative value (-1), but there must be at least one NUMA node, so returning NUMA node zero\n",
      "2021-07-04 22:33:26.394164: I tensorflow/stream_executor/cuda/cuda_gpu_executor.cc:937] successful NUMA node read from SysFS had negative value (-1), but there must be at least one NUMA node, so returning NUMA node zero\n",
      "2021-07-04 22:33:26.394366: I tensorflow/core/common_runtime/gpu/gpu_device.cc:1871] Adding visible gpu devices: 0\n",
      "2021-07-04 22:33:26.394385: I tensorflow/stream_executor/platform/default/dso_loader.cc:53] Successfully opened dynamic library libcudart.so.11.0\n",
      "2021-07-04 22:33:26.670230: I tensorflow/core/common_runtime/gpu/gpu_device.cc:1258] Device interconnect StreamExecutor with strength 1 edge matrix:\n",
      "2021-07-04 22:33:26.670249: I tensorflow/core/common_runtime/gpu/gpu_device.cc:1264]      0 \n",
      "2021-07-04 22:33:26.670253: I tensorflow/core/common_runtime/gpu/gpu_device.cc:1277] 0:   N \n",
      "2021-07-04 22:33:26.670352: I tensorflow/stream_executor/cuda/cuda_gpu_executor.cc:937] successful NUMA node read from SysFS had negative value (-1), but there must be at least one NUMA node, so returning NUMA node zero\n",
      "2021-07-04 22:33:26.670598: I tensorflow/stream_executor/cuda/cuda_gpu_executor.cc:937] successful NUMA node read from SysFS had negative value (-1), but there must be at least one NUMA node, so returning NUMA node zero\n",
      "2021-07-04 22:33:26.670818: I tensorflow/stream_executor/cuda/cuda_gpu_executor.cc:937] successful NUMA node read from SysFS had negative value (-1), but there must be at least one NUMA node, so returning NUMA node zero\n",
      "2021-07-04 22:33:26.671025: I tensorflow/core/common_runtime/gpu/gpu_device.cc:1418] Created TensorFlow device (/job:localhost/replica:0/task:0/device:GPU:0 with 6635 MB memory) -> physical GPU (device: 0, name: GeForce RTX 3080, pci bus id: 0000:01:00.0, compute capability: 8.6)\n"
     ]
    }
   ],
   "source": [
    "model = keras.Sequential([\n",
    "    keras.layers.Conv2D(16,(3,3), activation = tf.nn.relu, input_shape=(300,300,3)),\n",
    "    keras.layers.MaxPooling2D(2,2),\n",
    "    keras.layers.Conv2D(32,(3,3), activation = tf.nn.relu),\n",
    "    keras.layers.MaxPooling2D(2,2),\n",
    "    keras.layers.Conv2D(64,(3,3), activation = tf.nn.relu),\n",
    "    keras.layers.MaxPooling2D(2,2),\n",
    "    keras.layers.Conv2D(128,(3,3), activation = tf.nn.relu),\n",
    "    keras.layers.MaxPooling2D(2,2),\n",
    "    keras.layers.Conv2D(64,(3,3), activation = tf.nn.relu),\n",
    "    keras.layers.MaxPooling2D(2,2),\n",
    "    keras.layers.Flatten(),\n",
    "    keras.layers.Dense(512, activation = tf.nn.relu),\n",
    "    keras.layers.Dense(units=1, activation = tf.nn.sigmoid)])"
   ]
  },
  {
   "cell_type": "code",
   "execution_count": 5,
   "metadata": {},
   "outputs": [
    {
     "name": "stdout",
     "output_type": "stream",
     "text": [
      "Model: \"sequential\"\n",
      "_________________________________________________________________\n",
      "Layer (type)                 Output Shape              Param #   \n",
      "=================================================================\n",
      "conv2d (Conv2D)              (None, 298, 298, 16)      448       \n",
      "_________________________________________________________________\n",
      "max_pooling2d (MaxPooling2D) (None, 149, 149, 16)      0         \n",
      "_________________________________________________________________\n",
      "conv2d_1 (Conv2D)            (None, 147, 147, 32)      4640      \n",
      "_________________________________________________________________\n",
      "max_pooling2d_1 (MaxPooling2 (None, 73, 73, 32)        0         \n",
      "_________________________________________________________________\n",
      "conv2d_2 (Conv2D)            (None, 71, 71, 64)        18496     \n",
      "_________________________________________________________________\n",
      "max_pooling2d_2 (MaxPooling2 (None, 35, 35, 64)        0         \n",
      "_________________________________________________________________\n",
      "conv2d_3 (Conv2D)            (None, 33, 33, 128)       73856     \n",
      "_________________________________________________________________\n",
      "max_pooling2d_3 (MaxPooling2 (None, 16, 16, 128)       0         \n",
      "_________________________________________________________________\n",
      "conv2d_4 (Conv2D)            (None, 14, 14, 64)        73792     \n",
      "_________________________________________________________________\n",
      "max_pooling2d_4 (MaxPooling2 (None, 7, 7, 64)          0         \n",
      "_________________________________________________________________\n",
      "flatten (Flatten)            (None, 3136)              0         \n",
      "_________________________________________________________________\n",
      "dense (Dense)                (None, 512)               1606144   \n",
      "_________________________________________________________________\n",
      "dense_1 (Dense)              (None, 1)                 513       \n",
      "=================================================================\n",
      "Total params: 1,777,889\n",
      "Trainable params: 1,777,889\n",
      "Non-trainable params: 0\n",
      "_________________________________________________________________\n"
     ]
    }
   ],
   "source": [
    "model.summary()"
   ]
  },
  {
   "cell_type": "code",
   "execution_count": 6,
   "metadata": {},
   "outputs": [],
   "source": [
    "model.compile(optimizer='adam', loss='binary_crossentropy', metrics=['acc'])"
   ]
  },
  {
   "cell_type": "code",
   "execution_count": 7,
   "metadata": {},
   "outputs": [],
   "source": [
    "from tensorflow.keras.preprocessing.image import ImageDataGenerator\n",
    "train_datagen = ImageDataGenerator(rescale=1/255)\n",
    "validation_datagen = ImageDataGenerator(rescale=1/255)"
   ]
  },
  {
   "cell_type": "code",
   "execution_count": 8,
   "metadata": {},
   "outputs": [
    {
     "name": "stdout",
     "output_type": "stream",
     "text": [
      "Found 1027 images belonging to 2 classes.\n",
      "Found 256 images belonging to 2 classes.\n"
     ]
    }
   ],
   "source": [
    "train_generator = train_datagen.flow_from_directory(\n",
    "                    '/tmp/horse-or-human/',\n",
    "                    target_size=(300,300),\n",
    "                    batch_size=128,\n",
    "                    class_mode='binary')\n",
    "\n",
    "validation_generator = validation_datagen.flow_from_directory(\n",
    "                    '/tmp/validation-horse-or-human/',\n",
    "                    target_size=(300,300),\n",
    "                    batch_size=128,\n",
    "                    class_mode='binary')"
   ]
  },
  {
   "cell_type": "code",
   "execution_count": 9,
   "metadata": {},
   "outputs": [
    {
     "name": "stderr",
     "output_type": "stream",
     "text": [
      "/home/arnab/anaconda3/envs/tensorflow/lib/python3.8/site-packages/tensorflow/python/keras/engine/training.py:1940: UserWarning: `Model.fit_generator` is deprecated and will be removed in a future version. Please use `Model.fit`, which supports generators.\n",
      "  warnings.warn('`Model.fit_generator` is deprecated and '\n",
      "2021-07-04 22:33:27.414445: I tensorflow/compiler/mlir/mlir_graph_optimization_pass.cc:176] None of the MLIR Optimization Passes are enabled (registered 2)\n",
      "2021-07-04 22:33:27.431781: I tensorflow/core/platform/profile_utils/cpu_utils.cc:114] CPU Frequency: 3799900000 Hz\n"
     ]
    },
    {
     "name": "stdout",
     "output_type": "stream",
     "text": [
      "Epoch 1/15\n"
     ]
    },
    {
     "name": "stderr",
     "output_type": "stream",
     "text": [
      "2021-07-04 22:33:27.763922: I tensorflow/stream_executor/platform/default/dso_loader.cc:53] Successfully opened dynamic library libcudnn.so.8\n",
      "2021-07-04 22:33:28.133611: I tensorflow/stream_executor/cuda/cuda_dnn.cc:359] Loaded cuDNN version 8201\n",
      "2021-07-04 22:33:28.719117: I tensorflow/stream_executor/platform/default/dso_loader.cc:53] Successfully opened dynamic library libcublas.so.11\n",
      "2021-07-04 22:33:29.056088: I tensorflow/stream_executor/platform/default/dso_loader.cc:53] Successfully opened dynamic library libcublasLt.so.11\n",
      "2021-07-04 22:33:29.098556: I tensorflow/stream_executor/cuda/cuda_blas.cc:1838] TensorFloat-32 will be used for the matrix multiplication. This will only be logged once.\n"
     ]
    },
    {
     "name": "stdout",
     "output_type": "stream",
     "text": [
      "9/9 [==============================] - 7s 607ms/step - loss: 0.7140 - acc: 0.5852 - val_loss: 0.6463 - val_acc: 0.5078\n",
      "Epoch 2/15\n",
      "9/9 [==============================] - 4s 495ms/step - loss: 0.5169 - acc: 0.7585 - val_loss: 0.6600 - val_acc: 0.8008\n",
      "Epoch 3/15\n",
      "9/9 [==============================] - 4s 493ms/step - loss: 0.2513 - acc: 0.9046 - val_loss: 0.8327 - val_acc: 0.8164\n",
      "Epoch 4/15\n",
      "9/9 [==============================] - 4s 495ms/step - loss: 0.1367 - acc: 0.9455 - val_loss: 2.0660 - val_acc: 0.7422\n",
      "Epoch 5/15\n",
      "9/9 [==============================] - 4s 495ms/step - loss: 0.1091 - acc: 0.9572 - val_loss: 1.9130 - val_acc: 0.8281\n",
      "Epoch 6/15\n",
      "9/9 [==============================] - 4s 495ms/step - loss: 0.0535 - acc: 0.9844 - val_loss: 1.2445 - val_acc: 0.8359\n",
      "Epoch 7/15\n",
      "9/9 [==============================] - 4s 494ms/step - loss: 0.0219 - acc: 0.9893 - val_loss: 2.1552 - val_acc: 0.8164\n",
      "Epoch 8/15\n",
      "9/9 [==============================] - 4s 488ms/step - loss: 0.0138 - acc: 0.9932 - val_loss: 1.4001 - val_acc: 0.8359\n",
      "Epoch 9/15\n",
      "9/9 [==============================] - 4s 493ms/step - loss: 0.0067 - acc: 1.0000 - val_loss: 2.2362 - val_acc: 0.8047\n",
      "Epoch 10/15\n",
      "9/9 [==============================] - 4s 494ms/step - loss: 0.0034 - acc: 0.9990 - val_loss: 2.1152 - val_acc: 0.8281\n",
      "Epoch 11/15\n",
      "9/9 [==============================] - 4s 488ms/step - loss: 0.0020 - acc: 1.0000 - val_loss: 2.2121 - val_acc: 0.8398\n",
      "Epoch 12/15\n",
      "9/9 [==============================] - 4s 494ms/step - loss: 7.3678e-04 - acc: 1.0000 - val_loss: 2.7221 - val_acc: 0.8203\n",
      "Epoch 13/15\n",
      "9/9 [==============================] - 4s 489ms/step - loss: 3.6460e-04 - acc: 1.0000 - val_loss: 2.7150 - val_acc: 0.8281\n",
      "Epoch 14/15\n",
      "9/9 [==============================] - 4s 553ms/step - loss: 1.9645e-04 - acc: 1.0000 - val_loss: 2.7401 - val_acc: 0.8281\n",
      "Epoch 15/15\n",
      "9/9 [==============================] - 4s 494ms/step - loss: 1.4981e-04 - acc: 1.0000 - val_loss: 2.8248 - val_acc: 0.8320\n"
     ]
    }
   ],
   "source": [
    "history = model.fit_generator(train_generator,\n",
    "         epochs=15,\n",
    "         verbose=1,\n",
    "         validation_data= validation_generator)"
   ]
  },
  {
   "cell_type": "code",
   "execution_count": null,
   "metadata": {},
   "outputs": [],
   "source": []
  }
 ],
 "metadata": {
  "kernelspec": {
   "display_name": "tensorflow",
   "language": "python",
   "name": "tensorflow"
  },
  "language_info": {
   "codemirror_mode": {
    "name": "ipython",
    "version": 3
   },
   "file_extension": ".py",
   "mimetype": "text/x-python",
   "name": "python",
   "nbconvert_exporter": "python",
   "pygments_lexer": "ipython3",
   "version": "3.8.8"
  }
 },
 "nbformat": 4,
 "nbformat_minor": 4
}
